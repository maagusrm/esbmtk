{
 "cells": [
  {
   "cell_type": "markdown",
   "metadata": {},
   "source": [
    "ESBMTK Quick Start Guide\n",
    "========================\n",
    "\n",
    "**Author:** Ulrich G Wortmann\n",
    "\n"
   ]
  },
  {
   "cell_type": "markdown",
   "metadata": {},
   "source": [
    "## A  note on Jupyter Notebooks\n",
    "\n"
   ]
  },
  {
   "cell_type": "markdown",
   "metadata": {},
   "source": [
    "If this is your first time with a Jupyter Notebook, please read\n",
    "on. Otherwise, skip to the next section.\n",
    "\n",
    "Jupyter notebooks allow to mix text, data and code, and they either\n",
    "run on local server on your computer or in a cloud hosted Jupyter\n",
    "node. Most universities run Jupyter nodes which integrate with their\n",
    "campus wide login services. \n",
    "\n",
    "Notebooks can be coupled to github repositories so that students find\n",
    "a preconfigured working environment.  \n",
    "\n",
    "The code examples below are meant to be executed step by step (just\n",
    "activate a code cell with mouse click and hit shift+enter). Code/Text\n",
    "cells can be edited which allows you to change model parameters and\n",
    "play with the code.\n",
    "\n"
   ]
  },
  {
   "cell_type": "markdown",
   "metadata": {},
   "source": [
    "## Install the ESBMTK libraries\n",
    "\n"
   ]
  },
  {
   "cell_type": "markdown",
   "metadata": {},
   "source": [
    "In order to install the esbmtk library, please execute the following\n",
    "code. You only need to do this once. The library will remain installed\n",
    "as long as this account is not deleted. This command will generate\n",
    "quite a bit of output but there should be no error messages. \n",
    "\n"
   ]
  },
  {
   "cell_type": "code",
   "execution_count": 1,
   "metadata": {},
   "outputs": [],
   "source": [
    "# Install a pip package in the current Jupyter kernel\n",
    "import sys\n",
    "# installl esbmtk in your jupyter account\n",
    "!{sys.executable} -m pip install esbmtk\n",
    "\n",
    "# update esbmtk if necessary\n",
    "# !{sys.executable} -m pip install --upgrade esbmtk"
   ]
  },
  {
   "cell_type": "markdown",
   "metadata": {},
   "source": [
    "## A worked example\n",
    "\n"
   ]
  },
  {
   "cell_type": "markdown",
   "metadata": {},
   "source": [
    "Note that this example is not mean to be scientifically\n",
    "correct. It simply demonstrates various ESBMTK features\n",
    "\n",
    "In the following example we will set up a simple carbon cycle\n",
    "model where the ocean is represented by a single box\n",
    "\n",
    "The data forcing the anthropogenic carbon flux will be read\n",
    "from a csv file. Interaction with external data is handled through the\n",
    "external data object which allows to integrate external data into the\n",
    "model framework. It can then be used to generate a signal, or it can\n",
    "be associated with a reservoir so that the data is plotted with the\n",
    "reservoir data.\n",
    "\n",
    "The model consists of four sources, two sinks, and one reservoir. We\n",
    "will read external data from spreadsheet which contains values for the\n",
    "CO<sub>2</sub> from fossil fuel burning, and then evaluate the response of the\n",
    "ocean to this perturbation.\n",
    "\n",
    "![img](model.png)\n",
    "\n"
   ]
  },
  {
   "cell_type": "markdown",
   "metadata": {},
   "source": [
    "### Setting up the model\n",
    "\n"
   ]
  },
  {
   "cell_type": "markdown",
   "metadata": {},
   "source": [
    "We need to load all required libraries and all classes we want to\n",
    "use. Interaction with the model classes is done through keyword/value\n",
    "pairs. Use `help()` to inquire about the supported keyword value\n",
    "pairs.\n",
    "\n",
    "ESBMTK is unit aware. The units are used to map all input data to\n",
    "internal units. The type of internal units needs to specified when\n",
    "creating the model object. The time unit is derived from the timestep\n",
    "variable. I.e., if the timestep is given in seconds, all other time\n",
    "related input will be mapped to seconds. Similarly you have to define\n",
    "the base mass unit. Typically, this will be moles, but other units\n",
    "like grams etc can also be used.  At present ESBMTK cannot convert\n",
    "between different types of mass units (e.g., kg to moles).  The usual\n",
    "prefixes like kilo, mega, milli etc are recognized. Volume units like\n",
    "`l` or `m**3` are recognized as well. ESBMTK also defines the sverdrup\n",
    "(\"Sv\")\n",
    "\n",
    "Once the input units are mapped to base units specified by the model\n",
    "object, all data will be reported in the base units. The only\n",
    "exception is the `object.plot()` method which will transform the data\n",
    "back into the original unit. In other words, if your timestep is in\n",
    "years, but you specify your endtime in kyrs, the time axis will be\n",
    "plotted in kyrs. Similarly for all other data, with the exception of\n",
    "the isotope delta values.\n",
    "\n",
    "The below code loads predefined definitions for carbon, but you can\n",
    "also define your own element and species objects.\n",
    "\n"
   ]
  },
  {
   "cell_type": "code",
   "execution_count": 1,
   "metadata": {},
   "outputs": [],
   "source": [
    "from esbmtk import Model, Element, Species, Reservoir\n",
    "from esbmtk import Signal, Connect, Source, Sink, ExternalData\n",
    "\n",
    "# create model\n",
    "Model(\n",
    "    name=\"C_Cycle\",     # model name\n",
    "    stop=\"1000 yrs\",    # end time of model\n",
    "    timestep=\" 1 yr\",   # base unit for time\n",
    "    mass_unit = \"mol\",  # base unit for mass\n",
    "    volume_unit = \"l\",  # base unit for volume\n",
    "    element=\"Carbon\",    # load default element and species definitions\n",
    "    offset=\"1751 yrs\"   # map to external timescale\n",
    ")"
   ]
  },
  {
   "cell_type": "markdown",
   "metadata": {},
   "source": [
    "### Using external data to initialize a signal\n",
    "\n"
   ]
  },
  {
   "cell_type": "code",
   "execution_count": 1,
   "metadata": {},
   "outputs": [],
   "source": [
    "Signal(name = \"ACR\",              # Signal name\n",
    "       species = CO2,             # Species\n",
    "       filename = \"emissions.csv\" # filename\n",
    ")"
   ]
  },
  {
   "cell_type": "markdown",
   "metadata": {},
   "source": [
    "Once a signal instance has been created, it can be passed to a\n",
    "connector object in order to associate it with a flux (see the first\n",
    "connection below as an example).\n",
    "\n"
   ]
  },
  {
   "cell_type": "markdown",
   "metadata": {},
   "source": [
    "### Sources, Sinks and Reservoirs\n",
    "\n"
   ]
  },
  {
   "cell_type": "markdown",
   "metadata": {},
   "source": [
    "The fundamental model object is the reservoir. Reservoirs are\n",
    "connected to each other by one or more fluxes. Fluxes are created\n",
    "implicitly by connecting two reservoirs. \n",
    "\n",
    "Connecting a reservoir with a Source or Sink also creates a flux, but\n",
    "unlike reservoirs, sources and sinks do not have any associated\n",
    "data. They are merely there to allow the creation of a flux.\n",
    "\n"
   ]
  },
  {
   "cell_type": "code",
   "execution_count": 1,
   "metadata": {},
   "outputs": [],
   "source": [
    "Source(name=\"Fossil_Fuel_Burning\", species=CO2)\n",
    "Source(name=\"Carbonate_Weathering\", species=CO2)\n",
    "Source(name=\"Organic_Weathering\", species=CO2)\n",
    "Source(name=\"Volcanic\", species=CO2)\n",
    "Sink(name=\"Carbonate_burial\", species=CaCO3)\n",
    "Sink(name=\"OM_burial\", species=OM)\n",
    "\n",
    "Reservoir(\n",
    "    name=\"Ocean\",                # Name of reservoir\n",
    "    species=DIC,                 # Species handle\n",
    "    delta=2,                     # initial delta\n",
    "    concentration=\"2.6 mmol/l\", # cocentration \n",
    "    volume=\"1.332E18 m**3\",      # reservoir size (m^3)\n",
    ")"
   ]
  },
  {
   "cell_type": "markdown",
   "metadata": {},
   "source": [
    "We now have all the model objects, and the only thing which is left to\n",
    "be done, is define how objects are connected to each other.\n",
    "\n"
   ]
  },
  {
   "cell_type": "markdown",
   "metadata": {},
   "source": [
    "### Connecting sources, reservoirs and sinks\n",
    "\n"
   ]
  },
  {
   "cell_type": "markdown",
   "metadata": {},
   "source": [
    "The first statement below, connects the source `Fossil_Fuel_Burning`\n",
    "with the reservoir `Ocean`. This will create a flux with the name\n",
    "`Fossil_Fuel_Burning_to_Ocean`. The rate and delta keywords indicate\n",
    "that this flux will be zero. However, we provide the process list\n",
    "keyword `pl = [ACR]` in order to associate the fossil fuel burning\n",
    "emission signal with this flux This data will be added to the\n",
    "`Fossil_Fuel_Burning_to_Ocean` flux (since the process is additive,\n",
    "the initial flux has to be zero!)\n",
    "\n",
    "The type of flux depends on how we specify the connection. In the\n",
    "previous example we provided a signal, so the flux will change with\n",
    "time according to the signal data. If you look at the connection\n",
    "between `Carbonate_Weathering` and `Ocean` below, we specify a given\n",
    "rate and delta value. So this flux will not change over time. If you\n",
    "look at the connection between `Ocean` and `OM_burial` the connection\n",
    "specifies a constant flux but with an `alpha = -26.3`. This indicates\n",
    "that this flux involves a fixed isotope offset relative to the\n",
    "upstream reservoir, i.e., the isotope ratio of this flux will change\n",
    "dynamically in response to the isotope ratio of the reservoir, but\n",
    "with a constant offset.\n",
    "\n",
    "The carbonate burial flux additionally specifies a reference value for\n",
    "the DIC concentration. The model will modify this flux in such away\n",
    "that the reservoirs returns to this concentration setpoint. The\n",
    "`k_cocentration` parameter defines how fast the ocean returns to the\n",
    "reference value.\n",
    "\n"
   ]
  },
  {
   "cell_type": "code",
   "execution_count": 1,
   "metadata": {},
   "outputs": [],
   "source": [
    "# connect source to reservoir\n",
    "Connect(\n",
    "    source=Fossil_Fuel_Burning,  # source of flux\n",
    "    sink=Ocean,                  # target of flux\n",
    "    rate=\"0 mol/yr\",             # weathering flux in \n",
    "    delta=0,                     # set a default flux\n",
    "    pl=[ACR],                    # process list, here the anthropogenic carbon release\n",
    "    scale=0.5                    # assume that the ocean uptke is half of the ACR\n",
    ")\n",
    "\n",
    "Connect(\n",
    "    source=Carbonate_Weathering,  # source of flux\n",
    "    sink=Ocean,                   # target of flux\n",
    "    rate=\"12.3E12 mol/yr\",        # weathering flux in \n",
    "    delta=0,                      # isotope ratio\n",
    "    plot=\"no\",\n",
    ")\n",
    "\n",
    "Connect(\n",
    "    source=Organic_Weathering,  # source of flux\n",
    "    sink=Ocean,                 # target of flux\n",
    "    rate=\"4.0E12 mol/yr\",       # flux rate\n",
    "    delta=-20,                  # isotope ratio\n",
    "    plot=\"no\",\n",
    ")\n",
    "\n",
    "Connect(\n",
    "    source=Volcanic,      # source of flux\n",
    "    sink=Ocean,           # target of flux\n",
    "    rate=\"6.0E12 mol/yr\", # flux rate\n",
    "    delta=-5,             # isotope ratio\n",
    "    plot=\"no\",\n",
    ")\n",
    "\n",
    "Connect(\n",
    "    source=Ocean,          # source of flux\n",
    "    sink=OM_burial,        # target of flux\n",
    "    rate=\"4.2E12 mol/yr\",  # burial rate\n",
    "    alpha=-26.32,          # fractionation factor\n",
    ")\n",
    "\n",
    "Connect(\n",
    "    source=Ocean,          # source of flux\n",
    "    sink=Carbonate_burial, # target of flux\n",
    "    rate=\"18.1E12 mol/yr\", # burial rate\n",
    "    #ctype = \"scale_with_concentration_normalized\",\n",
    "    #ref_value=\"2.6 mmol/l\",\n",
    "    #k_value = 1000,\n",
    "    alpha=0,               # set the isotope fractionation\n",
    ")"
   ]
  },
  {
   "cell_type": "markdown",
   "metadata": {},
   "source": [
    "### Add some external data to compare against\n",
    "\n"
   ]
  },
  {
   "cell_type": "markdown",
   "metadata": {},
   "source": [
    "External data can be read from a csv file, which must contain 3\n",
    "columns. Run `help(External_data)` for details.\n",
    "\n"
   ]
  },
  {
   "cell_type": "code",
   "execution_count": 1,
   "metadata": {},
   "outputs": [],
   "source": [
    "ExternalData(name=\"measured_carbon_isotopes\",\n",
    "             filename = \"measured_c_isotopes.csv\",\n",
    "             legend = \"Dean et al. 2014\",\n",
    "             offset = \"1750 yrs\",\n",
    "             reservoir = Ocean\n",
    "             )"
   ]
  },
  {
   "cell_type": "markdown",
   "metadata": {},
   "source": [
    "### Running the model\n",
    "\n"
   ]
  },
  {
   "cell_type": "markdown",
   "metadata": {},
   "source": [
    "The model is executed via the `run()` method. The results can be displayed withe the `plot_data()` method which will generate an overview graph for each reservoir. Export of the results to a csv file is done via the `save_data()` method which will create csv file for each reservoir.\n",
    "\n"
   ]
  },
  {
   "cell_type": "code",
   "execution_count": 1,
   "metadata": {},
   "outputs": [],
   "source": [
    "# Run the model\n",
    "C_Cycle.run()\n",
    "\n",
    "# plot the results\n",
    "C_Cycle.plot_data()\n",
    "# save the results\n",
    "C_Cycle.save_data()"
   ]
  }
 ],
 "metadata": {
  "kernelspec": {
   "display_name": "Python 3",
   "language": "python",
   "name": "python3"
  },
  "language_info": {
   "codemirror_mode": {
    "name": "ipython",
    "version": 3
   },
   "file_extension": ".py",
   "mimetype": "text/x-python",
   "name": "python",
   "nbconvert_exporter": "python",
   "pygments_lexer": "ipython3",
   "version": "3.8.5"
  },
  "org": null
 },
 "nbformat": 4,
 "nbformat_minor": 1
}

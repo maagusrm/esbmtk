{
 "cells": [
  {
   "cell_type": "code",
   "execution_count": 2,
   "metadata": {},
   "outputs": [
    {
     "ename": "IndentationError",
     "evalue": "expected an indented block (bmtk.py, line 1650)",
     "output_type": "error",
     "traceback": [
      "Traceback \u001b[0;36m(most recent call last)\u001b[0m:\n",
      "  File \u001b[1;32m\"/home/uliw/anaconda3/lib/python3.7/site-packages/IPython/core/interactiveshell.py\"\u001b[0m, line \u001b[1;32m3417\u001b[0m, in \u001b[1;35mrun_code\u001b[0m\n    exec(code_obj, self.user_global_ns, self.user_ns)\n",
      "\u001b[0;36m  File \u001b[0;32m\"<ipython-input-2-b894024a027b>\"\u001b[0;36m, line \u001b[0;32m1\u001b[0;36m, in \u001b[0;35m<module>\u001b[0;36m\u001b[0m\n\u001b[0;31m    from bmtk import Model, ExternalData\u001b[0m\n",
      "\u001b[0;36m  File \u001b[0;32m\"/home/uliw/user/python-scripts/bmtk/bmtk.py\"\u001b[0;36m, line \u001b[0;32m1650\u001b[0m\n\u001b[0;31m    E            raise ValueError(\"CSV file must have only two columns\")\u001b[0m\n\u001b[0m                                                                        ^\u001b[0m\n\u001b[0;31mIndentationError\u001b[0m\u001b[0;31m:\u001b[0m expected an indented block\n"
     ]
    }
   ],
   "source": [
    "from bmtk import Model, ExternalData\n",
    "\n",
    "# create mode\n",
    "Model(name = \"Test_Model\",  # model name\n",
    "      stop = 1000,\n",
    "      time_unit=\"yr\",\n",
    "      dt = 2\n",
    ")\n",
    "\n",
    "ExternalData(name=\"Test_Data\",\n",
    "             filename=\"test-data.csv\",\n",
    "             legend=\"Test Data\",\n",
    "             model=Test_Model,)"
   ]
  },
  {
   "cell_type": "markdown",
   "metadata": {},
   "source": [
    "and execute the model\n",
    "\n"
   ]
  },
  {
   "cell_type": "code",
   "execution_count": 1,
   "metadata": {},
   "outputs": [],
   "source": [
    "#Test_Model.execute()\n",
    "#Test_Model.show_figure()"
   ]
  }
 ],
 "metadata": {
  "kernelspec": {
   "display_name": "Python 3",
   "language": "python",
   "name": "python3"
  },
  "language_info": {
   "codemirror_mode": {
    "name": "ipython",
    "version": 3
   },
   "file_extension": ".py",
   "mimetype": "text/x-python",
   "name": "python",
   "nbconvert_exporter": "python",
   "pygments_lexer": "ipython3",
   "version": "3.7.9"
  },
  "org": null
 },
 "nbformat": 4,
 "nbformat_minor": 1
}

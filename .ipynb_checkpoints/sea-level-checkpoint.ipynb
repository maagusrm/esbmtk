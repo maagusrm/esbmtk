{
 "cells": [
  {
   "cell_type": "markdown",
   "metadata": {},
   "source": [
    "We first calculate the size of shelf area at any given time step using\n",
    "the sea-level estimate of Kominz et al. (2008). To average out\n",
    "regional or local sea-level signals (as modified by, e.g., gravity,\n",
    "mantle flow, and isostatic rebound), we use the cubic polynomial fit\n",
    "of the global mean hypsometric curve (ETOPO5, National Geophysical\n",
    "Data Center, 1988) after Markovic et al. (2015):\n",
    "\n",
    "A = Ag · [1 –(0.307 · L3 + 0.624 · L2 + 0.43 · L + 0. ﻿99991)]\n",
    "\n",
    "where A denotes shelf area [m2]; Ag denotes the global ocean area of\n",
    "3.61×1014 m2 (Jacobsen et al., 2000); L denotes relative sea level\n",
    "above or below the modern sea level [km]. Since the late-Eocene sea\n",
    "level has been approximately 50m higher than the sea level today\n",
    "(Miller et al., 2005; Kominz et al., 2008), we estimate that the\n",
    "corresponding late-Eocene shelf area has been 50% larger than the\n",
    "modern shelf area (i.e., 1.5×2.7×1013 m2).\n",
    "\n"
   ]
  },
  {
   "cell_type": "code",
   "execution_count": 1,
   "metadata": {},
   "outputs": [],
   "source": [
    "def sealevel(z :float) -> float:\n",
    "    \"\"\"\n",
    "    Calculate shelf area as function of sealvel relative to modern mean sealevel\n",
    "    after Markovic et al. (2015):\n",
    "    \n",
    "    Arguments     z  :float = relative sealevel in meters\n",
    "    Return values sa :float = global shelf area in m**2\n",
    "    \n",
    "    \"\"\"\n",
    "    a :float = 3.61E14 # global ocean area in m^2\n",
    "\n",
    "    z  = z/1000   # the equation expects z in km\n",
    "    sa = a * (1 - (0.37 * z**3\n",
    "                   + 0.624 * z**2\n",
    "                   + 0.43 * z\n",
    "                   + 0.99991))\n",
    "    return sa\n",
    "\n",
    "sl = sealevel(50)\n",
    "print(f\"Area = {sl:.2e} m^2\")"
   ]
  }
 ],
 "metadata": {
  "kernelspec": {
   "display_name": "Python 3",
   "language": "python",
   "name": "python3"
  },
  "language_info": {
   "codemirror_mode": {
    "name": "ipython",
    "version": 3
   },
   "file_extension": ".py",
   "mimetype": "text/x-python",
   "name": "python",
   "nbconvert_exporter": "python",
   "pygments_lexer": "ipython3",
   "version": "3.7.9"
  },
  "org": null
 },
 "nbformat": 4,
 "nbformat_minor": 1
}
